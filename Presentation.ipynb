{
 "cells": [
  {
   "cell_type": "markdown",
   "metadata": {},
   "source": [
    "# Emotional Text Analysis\n",
    "## Statistical text analysis for emotional extraction and some generalizations\n",
    "#### Alberto Barradas\n",
    "[@abcsds](http://github.com/abcsds)"
   ]
  },
  {
   "cell_type": "markdown",
   "metadata": {},
   "source": [
    "## Emotion, and behaviour.\n",
    "\n",
    "There are everal theories of emotion, all indicate that emotions are a precursor of behaviour.\n",
    "\n",
    "## Models of Emotion\n",
    "- Affect\n",
    "![](img/Circumplex.jpg)\n",
    "- Bio-chemical\n",
    "![](img/Loevheim.png)\n",
    "- Evolutionary\n",
    "![](img/Ekman.jpg)\n",
    "- Functional\n",
    "![](img/Plutchik.png)"
   ]
  },
  {
   "cell_type": "code",
   "execution_count": null,
   "metadata": {
    "collapsed": true
   },
   "outputs": [],
   "source": [
    "import pandas as pd\n",
    "import numpy as np\n",
    "import matplotlib.pyplot as plt\n",
    "import string"
   ]
  },
  {
   "cell_type": "code",
   "execution_count": null,
   "metadata": {},
   "outputs": [],
   "source": [
    "emotions = [\"anger\",\n",
    "            \"anticipation\",\n",
    "            \"disgust\",\n",
    "            \"fear\",\n",
    "            \"joy\",\n",
    "            \"negative\",\n",
    "            \"positive\",\n",
    "            \"sadness\",\n",
    "            \"surprise\",\n",
    "            \"trust\"]\n",
    "df = pd.read_csv(\"dict.csv\")\n",
    "df.head()"
   ]
  },
  {
   "cell_type": "code",
   "execution_count": null,
   "metadata": {},
   "outputs": [],
   "source": [
    "df[emotions].sum()"
   ]
  },
  {
   "cell_type": "code",
   "execution_count": null,
   "metadata": {},
   "outputs": [],
   "source": [
    "from tweepy.streaming import StreamListener\n",
    "from tweepy import Stream\n",
    "from tweepy import OAuthHandler\n",
    "\n",
    "import json\n",
    "from csv import DictReader\n",
    "import pandas as pd\n",
    "import numpy as np\n",
    "import seaborn as sns\n",
    "\n",
    "%matplotlib inline\n",
    "import matplotlib.pyplot as plt"
   ]
  },
  {
   "cell_type": "code",
   "execution_count": null,
   "metadata": {},
   "outputs": [],
   "source": [
    "import myKeys\n",
    "\n",
    "api_key = myKeys.api_key\n",
    "api_secret = myKeys.api_secret\n",
    "access_token_key = myKeys.access_token_key\n",
    "access_token_secret = myKeys.access_token_secret"
   ]
  },
  {
   "cell_type": "code",
   "execution_count": null,
   "metadata": {
    "collapsed": true
   },
   "outputs": [],
   "source": [
    "cols = ['anger', 'anticipation', 'disgust', 'fear',\n",
    "        'joy', 'negative', 'positive', 'sadness', 'surprise', 'trust']\n",
    "\n",
    "dictFile  = 'dict.csv'\n",
    "mainDict = {}\n",
    "with open(dictFile) as csvFile:\n",
    "        reader = DictReader(csvFile)\n",
    "        for row in reader:\n",
    "            mainDict[row['Word']] = [int(row[i]) for i in cols]"
   ]
  },
  {
   "cell_type": "code",
   "execution_count": null,
   "metadata": {},
   "outputs": [],
   "source": [
    "class ColorListener(StreamListener):\n",
    "\n",
    "    def __init__(self):\n",
    "        self.tweets = pd.DataFrame(columns=('tweet', 'anger', 'anticipation',\n",
    "                'disgust', 'fear', 'joy', 'negative', 'positive', 'sadness', 'surprise', 'trust'))\n",
    "\n",
    "    def on_data(self, data):\n",
    "        try:\n",
    "            tweet = json.loads(data)\n",
    "            vector = self.score(tweet)\n",
    "            print(vector)\n",
    "            row = pd.Series([tweet['text']]+vector, index=['tweet', 'anger', 'anticipation',\n",
    "                'disgust', 'fear', 'joy', 'negative', 'positive', 'sadness', 'surprise', 'trust'])\n",
    "            self.tweets = self.tweets.append(row, ignore_index=True)\n",
    "        except UnboundLocalError:\n",
    "            raise UnboundLocalError # Tweet doesn't have text\n",
    "        except:\n",
    "            pass\n",
    "        return True\n",
    "\n",
    "    def score(self, tweet):\n",
    "        line = tweet['text'].replace('.','').replace(',','').replace(';','').replace(':','').replace('\\t',' ').replace('\\n',' ')\n",
    "        words = line.split(' ')\n",
    "        score = [0] * 10\n",
    "        for word in words:\n",
    "            if word in mainDict:\n",
    "                for i in range(len(score)):\n",
    "                    score[i] += mainDict[word][i]\n",
    "        return score\n",
    "\n",
    "    def on_error(self, status):\n",
    "        print(\"Error: \", status)"
   ]
  },
  {
   "cell_type": "code",
   "execution_count": null,
   "metadata": {
    "scrolled": true
   },
   "outputs": [],
   "source": [
    "cListener = ColorListener()\n",
    "auth = OAuthHandler(api_key, api_secret)\n",
    "auth.set_access_token(access_token_key, access_token_secret)\n",
    "\n",
    "stream = Stream(auth, cListener)\n",
    "\n",
    "# Start reading stream for english tweets with the color words\n",
    "stream.filter(languages=['en'], track=['red', 'green','blue'])"
   ]
  },
  {
   "cell_type": "code",
   "execution_count": null,
   "metadata": {},
   "outputs": [],
   "source": [
    "df = cListener.tweets\n",
    "print(len(df.index)) # Number of rows"
   ]
  },
  {
   "cell_type": "code",
   "execution_count": null,
   "metadata": {},
   "outputs": [],
   "source": [
    "df.head(10) # How the data looks like"
   ]
  },
  {
   "cell_type": "code",
   "execution_count": null,
   "metadata": {},
   "outputs": [],
   "source": [
    "df.plot(figsize=(16, 6)) # Plot the sentiment as a time series"
   ]
  },
  {
   "cell_type": "code",
   "execution_count": null,
   "metadata": {},
   "outputs": [],
   "source": [
    "df['trust'].plot(figsize=(16, 6))"
   ]
  },
  {
   "cell_type": "code",
   "execution_count": null,
   "metadata": {},
   "outputs": [],
   "source": [
    "df.plot(subplots=True, figsize=(16, 10))"
   ]
  },
  {
   "cell_type": "code",
   "execution_count": null,
   "metadata": {},
   "outputs": [],
   "source": [
    "df['trust'].plot.kde(figsize=(16, 6))"
   ]
  },
  {
   "cell_type": "code",
   "execution_count": null,
   "metadata": {},
   "outputs": [],
   "source": [
    "pd.tools.plotting.scatter_matrix(df, alpha=0.2, figsize=(16, 10), diagonal='kde')"
   ]
  },
  {
   "cell_type": "code",
   "execution_count": null,
   "metadata": {},
   "outputs": [],
   "source": [
    "df.sum()"
   ]
  },
  {
   "cell_type": "code",
   "execution_count": null,
   "metadata": {},
   "outputs": [],
   "source": [
    "cor = df.corr()\n",
    "cor"
   ]
  },
  {
   "cell_type": "code",
   "execution_count": null,
   "metadata": {},
   "outputs": [],
   "source": [
    "sns.heatmap(cor)"
   ]
  },
  {
   "cell_type": "code",
   "execution_count": null,
   "metadata": {},
   "outputs": [],
   "source": [
    "sns.clustermap(cor)"
   ]
  },
  {
   "cell_type": "code",
   "execution_count": null,
   "metadata": {},
   "outputs": [],
   "source": [
    "from matplotlib.pyplot import figure, show, rc\n",
    "\n",
    "fig = figure(figsize=(10, 10))\n",
    "ax = fig.add_axes([0.1, 0.1, 0.8, 0.8], polar=True)\n",
    "\n",
    "colors = ['#007C37','#79BF2A','#EBC527','#E66F11','#DB1245','#7D4CA1','#296CAB','#1781AA']\n",
    "\n",
    "N = 8\n",
    "theta = np.arange(0, 2*np.pi, 2*np.pi/N)-(np.pi/(2*N))\n",
    "radii = df[['fear','trust','joy','anticipation','anger','disgust','sadness','surprise']].sum()\n",
    "width = np.pi/N\n",
    "bars = ax.bar(theta, radii, width=width, bottom=0.0)\n",
    "for r,bar,c in zip(radii,bars,colors):\n",
    "    bar.set_facecolor(c)\n",
    "    bar.set_alpha(1)\n",
    "\n",
    "show()"
   ]
  },
  {
   "cell_type": "code",
   "execution_count": null,
   "metadata": {
    "collapsed": true
   },
   "outputs": [],
   "source": []
  }
 ],
 "metadata": {
  "kernelspec": {
   "display_name": "Python 3",
   "language": "python",
   "name": "python3"
  },
  "language_info": {
   "codemirror_mode": {
    "name": "ipython",
    "version": 3
   },
   "file_extension": ".py",
   "mimetype": "text/x-python",
   "name": "python",
   "nbconvert_exporter": "python",
   "pygments_lexer": "ipython3",
   "version": "3.6.0"
  }
 },
 "nbformat": 4,
 "nbformat_minor": 2
}
